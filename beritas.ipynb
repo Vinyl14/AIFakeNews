{
 "cells": [
  {
   "cell_type": "code",
   "execution_count": 19,
   "metadata": {},
   "outputs": [
    {
     "name": "stderr",
     "output_type": "stream",
     "text": [
      "c:\\Users\\linar\\AppData\\Local\\Programs\\Python\\Python311\\Lib\\site-packages\\sklearn\\svm\\_classes.py:32: FutureWarning: The default value of `dual` will change from `True` to `'auto'` in 1.5. Set the value of `dual` explicitly to suppress the warning.\n",
      "  warnings.warn(\n"
     ]
    },
    {
     "name": "stdout",
     "output_type": "stream",
     "text": [
      "Prediction: ASLI\n"
     ]
    },
    {
     "data": {
      "text/plain": [
       "['your_vectorizer_filename.pkl']"
      ]
     },
     "execution_count": 19,
     "metadata": {},
     "output_type": "execute_result"
    }
   ],
   "source": [
    "import numpy as np\n",
    "import pandas as pd\n",
    "import joblib\n",
    "from sklearn.feature_extraction.text import TfidfVectorizer\n",
    "from sklearn.svm import LinearSVC\n",
    "from imblearn.over_sampling import RandomOverSampler\n",
    "\n",
    "# Load the dataset\n",
    "data = pd.read_csv(\"DATASET_BERITA_ASLI_PALSU - Sheet1.csv\")\n",
    "\n",
    "# Create binary labels\n",
    "data['PALSU'] = (data['LABEL'] == \"ASLI\").astype(int)\n",
    "\n",
    "# Drop unnecessary columns\n",
    "data = data.drop([\"LABEL\"], axis=1)\n",
    "\n",
    "# Split the data into training and testing sets\n",
    "X, y = data['TEKS'], data['PALSU']\n",
    "\n",
    "# Vectorize the text data\n",
    "vectorizer = TfidfVectorizer(stop_words=\"english\", max_df=0.7)\n",
    "X_vectorized = vectorizer.fit_transform(X)\n",
    "\n",
    "# Address class imbalance using oversampling\n",
    "oversampler = RandomOverSampler(random_state=42)\n",
    "X_balanced, y_balanced = oversampler.fit_resample(X_vectorized, y)\n",
    "\n",
    "# Train a LinearSVC classifier\n",
    "clf = LinearSVC(C=1.0)  # You can adjust the C parameter\n",
    "clf.fit(X_balanced, y_balanced)\n",
    "\n",
    "# Take user input text\n",
    "user_input_text = input(\"Enter a text to predict: \")\n",
    "\n",
    "# Vectorize the user input text\n",
    "user_input_vectorized = vectorizer.transform([user_input_text])\n",
    "\n",
    "# Make predictions\n",
    "prediction = clf.predict(user_input_vectorized)\n",
    "\n",
    "# Display the prediction\n",
    "if prediction[0] == 0:\n",
    "    print(\"Prediction: ASLI\")\n",
    "else:\n",
    "    print(\"Prediction: PALSU\")\n",
    "\n",
    "# Save the model and vectorizer\n",
    "joblib.dump(clf, 'your_model_filename.pkl')\n",
    "joblib.dump(vectorizer, 'your_vectorizer_filename.pkl')\n"
   ]
  }
 ],
 "metadata": {
  "kernelspec": {
   "display_name": "Python 3",
   "language": "python",
   "name": "python3"
  },
  "language_info": {
   "codemirror_mode": {
    "name": "ipython",
    "version": 3
   },
   "file_extension": ".py",
   "mimetype": "text/x-python",
   "name": "python",
   "nbconvert_exporter": "python",
   "pygments_lexer": "ipython3",
   "version": "3.11.3"
  }
 },
 "nbformat": 4,
 "nbformat_minor": 2
}
